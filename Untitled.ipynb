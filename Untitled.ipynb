{
 "cells": [
  {
   "cell_type": "code",
   "execution_count": 1,
   "id": "682d01ac",
   "metadata": {},
   "outputs": [],
   "source": [
    "import pandas as pd"
   ]
  },
  {
   "cell_type": "code",
   "execution_count": 37,
   "id": "2ef7db11",
   "metadata": {
    "collapsed": true
   },
   "outputs": [
    {
     "ename": "ValueError",
     "evalue": "cannot set a frame with no defined columns",
     "output_type": "error",
     "traceback": [
      "\u001b[1;31m---------------------------------------------------------------------------\u001b[0m",
      "\u001b[1;31mValueError\u001b[0m                                Traceback (most recent call last)",
      "Cell \u001b[1;32mIn[37], line 2\u001b[0m\n\u001b[0;32m      1\u001b[0m df \u001b[38;5;241m=\u001b[39m pd\u001b[38;5;241m.\u001b[39mDataFrame()\n\u001b[1;32m----> 2\u001b[0m df\u001b[38;5;241m.\u001b[39mloc[\u001b[38;5;241m0\u001b[39m] \u001b[38;5;241m=\u001b[39m [\u001b[38;5;124m'\u001b[39m\u001b[38;5;124mNIFTY 18JAN2024 CE 21850\u001b[39m\u001b[38;5;124m'\u001b[39m, \u001b[38;5;124m'\u001b[39m\u001b[38;5;124mBANKNIFTY 17JAN2024 CE 47800\u001b[39m\u001b[38;5;124m'\u001b[39m, \u001b[38;5;124m'\u001b[39m\u001b[38;5;124mNIFTY 18JAN2024 PE 21850\u001b[39m\u001b[38;5;124m'\u001b[39m, \u001b[38;5;124m'\u001b[39m\u001b[38;5;124mBANKNIFTY 17JAN2024 PE 47800\u001b[39m\u001b[38;5;124m'\u001b[39m]\n\u001b[0;32m      3\u001b[0m df\u001b[38;5;241m.\u001b[39mloc[\u001b[38;5;241m1\u001b[39m] \u001b[38;5;241m=\u001b[39m [\u001b[38;5;124m'\u001b[39m\u001b[38;5;124m59314\u001b[39m\u001b[38;5;124m'\u001b[39m, \u001b[38;5;124m'\u001b[39m\u001b[38;5;124m35506\u001b[39m\u001b[38;5;124m'\u001b[39m, \u001b[38;5;124m'\u001b[39m\u001b[38;5;124m59315\u001b[39m\u001b[38;5;124m'\u001b[39m, \u001b[38;5;124m'\u001b[39m\u001b[38;5;124m35507\u001b[39m\u001b[38;5;124m'\u001b[39m]\n\u001b[0;32m      4\u001b[0m \u001b[38;5;28mprint\u001b[39m(\u001b[38;5;124m'\u001b[39m\u001b[38;5;130;01m\\n\u001b[39;00m\u001b[38;5;124mdf=\u001b[39m\u001b[38;5;130;01m\\n\u001b[39;00m\u001b[38;5;124m'\u001b[39m,df)\n",
      "File \u001b[1;32m~\\AppData\\Local\\anaconda3\\Lib\\site-packages\\pandas\\core\\indexing.py:849\u001b[0m, in \u001b[0;36m_LocationIndexer.__setitem__\u001b[1;34m(self, key, value)\u001b[0m\n\u001b[0;32m    846\u001b[0m \u001b[38;5;28mself\u001b[39m\u001b[38;5;241m.\u001b[39m_has_valid_setitem_indexer(key)\n\u001b[0;32m    848\u001b[0m iloc \u001b[38;5;241m=\u001b[39m \u001b[38;5;28mself\u001b[39m \u001b[38;5;28;01mif\u001b[39;00m \u001b[38;5;28mself\u001b[39m\u001b[38;5;241m.\u001b[39mname \u001b[38;5;241m==\u001b[39m \u001b[38;5;124m\"\u001b[39m\u001b[38;5;124miloc\u001b[39m\u001b[38;5;124m\"\u001b[39m \u001b[38;5;28;01melse\u001b[39;00m \u001b[38;5;28mself\u001b[39m\u001b[38;5;241m.\u001b[39mobj\u001b[38;5;241m.\u001b[39miloc\n\u001b[1;32m--> 849\u001b[0m iloc\u001b[38;5;241m.\u001b[39m_setitem_with_indexer(indexer, value, \u001b[38;5;28mself\u001b[39m\u001b[38;5;241m.\u001b[39mname)\n",
      "File \u001b[1;32m~\\AppData\\Local\\anaconda3\\Lib\\site-packages\\pandas\\core\\indexing.py:1825\u001b[0m, in \u001b[0;36m_iLocIndexer._setitem_with_indexer\u001b[1;34m(self, indexer, value, name)\u001b[0m\n\u001b[0;32m   1822\u001b[0m     indexer, missing \u001b[38;5;241m=\u001b[39m convert_missing_indexer(indexer)\n\u001b[0;32m   1824\u001b[0m     \u001b[38;5;28;01mif\u001b[39;00m missing:\n\u001b[1;32m-> 1825\u001b[0m         \u001b[38;5;28mself\u001b[39m\u001b[38;5;241m.\u001b[39m_setitem_with_indexer_missing(indexer, value)\n\u001b[0;32m   1826\u001b[0m         \u001b[38;5;28;01mreturn\u001b[39;00m\n\u001b[0;32m   1828\u001b[0m \u001b[38;5;28;01mif\u001b[39;00m name \u001b[38;5;241m==\u001b[39m \u001b[38;5;124m\"\u001b[39m\u001b[38;5;124mloc\u001b[39m\u001b[38;5;124m\"\u001b[39m:\n\u001b[0;32m   1829\u001b[0m     \u001b[38;5;66;03m# must come after setting of missing\u001b[39;00m\n",
      "File \u001b[1;32m~\\AppData\\Local\\anaconda3\\Lib\\site-packages\\pandas\\core\\indexing.py:2142\u001b[0m, in \u001b[0;36m_iLocIndexer._setitem_with_indexer_missing\u001b[1;34m(self, indexer, value)\u001b[0m\n\u001b[0;32m   2139\u001b[0m \u001b[38;5;28;01melif\u001b[39;00m \u001b[38;5;28mself\u001b[39m\u001b[38;5;241m.\u001b[39mndim \u001b[38;5;241m==\u001b[39m \u001b[38;5;241m2\u001b[39m:\n\u001b[0;32m   2140\u001b[0m     \u001b[38;5;28;01mif\u001b[39;00m \u001b[38;5;129;01mnot\u001b[39;00m \u001b[38;5;28mlen\u001b[39m(\u001b[38;5;28mself\u001b[39m\u001b[38;5;241m.\u001b[39mobj\u001b[38;5;241m.\u001b[39mcolumns):\n\u001b[0;32m   2141\u001b[0m         \u001b[38;5;66;03m# no columns and scalar\u001b[39;00m\n\u001b[1;32m-> 2142\u001b[0m         \u001b[38;5;28;01mraise\u001b[39;00m \u001b[38;5;167;01mValueError\u001b[39;00m(\u001b[38;5;124m\"\u001b[39m\u001b[38;5;124mcannot set a frame with no defined columns\u001b[39m\u001b[38;5;124m\"\u001b[39m)\n\u001b[0;32m   2144\u001b[0m     has_dtype \u001b[38;5;241m=\u001b[39m \u001b[38;5;28mhasattr\u001b[39m(value, \u001b[38;5;124m\"\u001b[39m\u001b[38;5;124mdtype\u001b[39m\u001b[38;5;124m\"\u001b[39m)\n\u001b[0;32m   2145\u001b[0m     \u001b[38;5;28;01mif\u001b[39;00m \u001b[38;5;28misinstance\u001b[39m(value, ABCSeries):\n\u001b[0;32m   2146\u001b[0m         \u001b[38;5;66;03m# append a Series\u001b[39;00m\n",
      "\u001b[1;31mValueError\u001b[0m: cannot set a frame with no defined columns"
     ]
    }
   ],
   "source": [
    "df = pd.DataFrame(columns=['desc_nifty_c', 'desc_banknifty_c', 'desc_nifty_p', 'desc_banknifty_p'])\n",
    "df.loc[0] = ['NIFTY 18JAN2024 CE 21850', 'BANKNIFTY 17JAN2024 CE 47800', 'NIFTY 18JAN2024 PE 21850', 'BANKNIFTY 17JAN2024 PE 47800']\n",
    "df.loc[1] = ['59314', '35506', '59315', '35507']\n",
    "print('\\ndf=\\n',df)\n",
    "\n",
    "n = len(df.columns)\n",
    "print('\\nno of cols ', n)\n",
    "\n",
    "# print('\\n df iloc \\n', df.iloc[0,0], df.iloc[1,0], df.iloc[0,1], df.iloc[1,1])\n",
    "\n",
    "l1 = ['NIFTY 18JAN2024 CE 21850', 'BANKNIFTY 17JAN2024 CE 47800', 'NIFTY 18JAN2024 PE 21850', 'BANKNIFTY 17JAN2024 PE 47800']\n",
    "l2 = ['59314', '35506', '59315', '35507']\n",
    "\n",
    "f=[]\n",
    "for i in range(n):\n",
    "    for j in range(2):\n",
    "        f.append(df.iloc[j:i])\n",
    "print('\\n f is \\t',f)\n",
    "l = []\n",
    "for i in range(n):\n",
    "    for j in range(2):\n",
    "        l.append({'exchangeSegment':2, 'exchangeInstrumentID':df.iloc[j:i]})\n",
    "# print('\\ndf to list of dict\\n', dtl)\n",
    "# print('\\nlist of dict \\n', l)"
   ]
  },
  {
   "cell_type": "code",
   "execution_count": 38,
   "id": "82c58c4d",
   "metadata": {},
   "outputs": [
    {
     "name": "stdout",
     "output_type": "stream",
     "text": [
      "25Jan2024\n"
     ]
    }
   ],
   "source": [
    "from datetime import datetime\n",
    "\n",
    "def convert_date_format(input_date):\n",
    "    # Convert string to datetime object\n",
    "    date_object = datetime.strptime(input_date, \"%Y-%m-%d\")\n",
    "\n",
    "    # Format the datetime object as required\n",
    "    formatted_date = date_object.strftime(\"%d%b%Y\")\n",
    "\n",
    "    return formatted_date\n",
    "\n",
    "# Example usage\n",
    "input_date = \"2024-01-25\"\n",
    "result = convert_date_format(input_date)\n",
    "print(result)\n"
   ]
  },
  {
   "cell_type": "code",
   "execution_count": 39,
   "id": "ecb042f0",
   "metadata": {},
   "outputs": [
    {
     "name": "stdout",
     "output_type": "stream",
     "text": [
      "{'a': 1, 'b': 5, 'c': 3, 'd': 4}\n"
     ]
    }
   ],
   "source": [
    "def update_dictionary(dictionary, key, value):\n",
    "    if key in dictionary:\n",
    "        dictionary[key] = value\n",
    "    else:\n",
    "        dictionary[key] = value\n",
    "\n",
    "# Example usage:\n",
    "my_dict = {'a': 1, 'b': 2, 'c': 3}\n",
    "\n",
    "update_dictionary(my_dict, 'b', 5)  # Update existing key\n",
    "update_dictionary(my_dict, 'd', 4)  # Add new key-value pair\n",
    "\n",
    "print(my_dict)"
   ]
  },
  {
   "cell_type": "code",
   "execution_count": 46,
   "id": "dfb16ea4",
   "metadata": {},
   "outputs": [
    {
     "name": "stdout",
     "output_type": "stream",
     "text": [
      "<class 'list'>\n",
      "['2024-01-25', '2024-01-25', '2024-02-29', '2024-01-25', '2024-03-28', '2024-02-29']\n",
      "['2024-01-25T14:30:00', '2024-01-25T14:30:00', '2024-02-29T14:30:00', '2024-01-25T14:30:00', '2024-03-28T14:30:00', '2024-02-29T14:30:00']\n"
     ]
    }
   ],
   "source": [
    "data = {'result': ['2024-01-25T14:30:00',\n",
    "  '2024-01-25T14:30:00',\n",
    "  '2024-02-29T14:30:00',\n",
    "  '2024-01-25T14:30:00',\n",
    "  '2024-03-28T14:30:00',\n",
    "  '2024-02-29T14:30:00']}\n",
    "\n",
    "ex_list = []\n",
    "df = data.get('result',[])\n",
    "print(type(df))\n",
    "for i in range(len(df)):\n",
    "    ex_list.append(df[i].split('T')[0])\n",
    "print(ex_list)\n",
    "print(df)"
   ]
  },
  {
   "cell_type": "code",
   "execution_count": 2,
   "id": "efd7a099",
   "metadata": {},
   "outputs": [
    {
     "name": "stdout",
     "output_type": "stream",
     "text": [
      "\n",
      " df is\n",
      "         absd    2  sdf\n",
      "0  sejhgvads    2  zdc\n",
      "1          1  sdf   cv\n",
      "2          2  zdc  sdf\n",
      "3         34   cv  zdc\n"
     ]
    }
   ],
   "source": [
    "import pandas as pd\n",
    "\n",
    "df = pd.read_excel(r\"C:\\Users\\vipulanand\\Documents\\Anand Rathi Financial Services Ltd (Synced)\\OneDrive - Anand Rathi Financial Services Ltd\\Book 1.xlsx\")\n",
    "print('\\n df is\\n', df)"
   ]
  }
 ],
 "metadata": {
  "kernelspec": {
   "display_name": "Python 3 (ipykernel)",
   "language": "python",
   "name": "python3"
  },
  "language_info": {
   "codemirror_mode": {
    "name": "ipython",
    "version": 3
   },
   "file_extension": ".py",
   "mimetype": "text/x-python",
   "name": "python",
   "nbconvert_exporter": "python",
   "pygments_lexer": "ipython3",
   "version": "3.11.5"
  }
 },
 "nbformat": 4,
 "nbformat_minor": 5
}
