{
 "cells": [
  {
   "cell_type": "code",
   "execution_count": 1,
   "id": "73139fed",
   "metadata": {},
   "outputs": [
    {
     "ename": "TypeError",
     "evalue": "Cannot infer number of levels from empty list",
     "output_type": "error",
     "traceback": [
      "\u001b[1;31m---------------------------------------------------------------------------\u001b[0m",
      "\u001b[1;31mTypeError\u001b[0m                                 Traceback (most recent call last)",
      "Cell \u001b[1;32mIn[1], line 14\u001b[0m\n\u001b[0;32m     11\u001b[0m df \u001b[38;5;241m=\u001b[39m pd\u001b[38;5;241m.\u001b[39mDataFrame(data, columns\u001b[38;5;241m=\u001b[39m[\u001b[38;5;124m\"\u001b[39m\u001b[38;5;124mnifty\u001b[39m\u001b[38;5;124m\"\u001b[39m, \u001b[38;5;124m\"\u001b[39m\u001b[38;5;124mbanknifty\u001b[39m\u001b[38;5;124m\"\u001b[39m])\n\u001b[0;32m     13\u001b[0m \u001b[38;5;66;03m# Set the index, maintaining the original order of rows\u001b[39;00m\n\u001b[1;32m---> 14\u001b[0m df \u001b[38;5;241m=\u001b[39m df\u001b[38;5;241m.\u001b[39mset_index(\u001b[43mpd\u001b[49m\u001b[38;5;241;43m.\u001b[39;49m\u001b[43mMultiIndex\u001b[49m\u001b[38;5;241;43m.\u001b[39;49m\u001b[43mfrom_tuples\u001b[49m\u001b[43m(\u001b[49m\u001b[43mdf\u001b[49m\u001b[38;5;241;43m.\u001b[39;49m\u001b[43mindex\u001b[49m\u001b[43m)\u001b[49m)\n\u001b[0;32m     16\u001b[0m \u001b[38;5;66;03m# Print the DataFrame\u001b[39;00m\n\u001b[0;32m     17\u001b[0m \u001b[38;5;28mprint\u001b[39m(df)\n",
      "File \u001b[1;32mC:\\ProgramData\\anaconda3\\lib\\site-packages\\pandas\\core\\indexes\\multi.py:205\u001b[0m, in \u001b[0;36mnames_compat.<locals>.new_meth\u001b[1;34m(self_or_cls, *args, **kwargs)\u001b[0m\n\u001b[0;32m    202\u001b[0m \u001b[38;5;28;01melif\u001b[39;00m \u001b[38;5;124m\"\u001b[39m\u001b[38;5;124mname\u001b[39m\u001b[38;5;124m\"\u001b[39m \u001b[38;5;129;01min\u001b[39;00m kwargs:\n\u001b[0;32m    203\u001b[0m     kwargs[\u001b[38;5;124m\"\u001b[39m\u001b[38;5;124mnames\u001b[39m\u001b[38;5;124m\"\u001b[39m] \u001b[38;5;241m=\u001b[39m kwargs\u001b[38;5;241m.\u001b[39mpop(\u001b[38;5;124m\"\u001b[39m\u001b[38;5;124mname\u001b[39m\u001b[38;5;124m\"\u001b[39m)\n\u001b[1;32m--> 205\u001b[0m \u001b[38;5;28;01mreturn\u001b[39;00m meth(self_or_cls, \u001b[38;5;241m*\u001b[39margs, \u001b[38;5;241m*\u001b[39m\u001b[38;5;241m*\u001b[39mkwargs)\n",
      "File \u001b[1;32mC:\\ProgramData\\anaconda3\\lib\\site-packages\\pandas\\core\\indexes\\multi.py:565\u001b[0m, in \u001b[0;36mMultiIndex.from_tuples\u001b[1;34m(cls, tuples, sortorder, names)\u001b[0m\n\u001b[0;32m    563\u001b[0m \u001b[38;5;28;01mif\u001b[39;00m \u001b[38;5;28mlen\u001b[39m(tuples) \u001b[38;5;241m==\u001b[39m \u001b[38;5;241m0\u001b[39m:\n\u001b[0;32m    564\u001b[0m     \u001b[38;5;28;01mif\u001b[39;00m names \u001b[38;5;129;01mis\u001b[39;00m \u001b[38;5;28;01mNone\u001b[39;00m:\n\u001b[1;32m--> 565\u001b[0m         \u001b[38;5;28;01mraise\u001b[39;00m \u001b[38;5;167;01mTypeError\u001b[39;00m(\u001b[38;5;124m\"\u001b[39m\u001b[38;5;124mCannot infer number of levels from empty list\u001b[39m\u001b[38;5;124m\"\u001b[39m)\n\u001b[0;32m    566\u001b[0m     \u001b[38;5;66;03m# error: Argument 1 to \"len\" has incompatible type \"Hashable\";\u001b[39;00m\n\u001b[0;32m    567\u001b[0m     \u001b[38;5;66;03m# expected \"Sized\"\u001b[39;00m\n\u001b[0;32m    568\u001b[0m     arrays \u001b[38;5;241m=\u001b[39m [[]] \u001b[38;5;241m*\u001b[39m \u001b[38;5;28mlen\u001b[39m(names)  \u001b[38;5;66;03m# type: ignore[arg-type]\u001b[39;00m\n",
      "\u001b[1;31mTypeError\u001b[0m: Cannot infer number of levels from empty list"
     ]
    }
   ],
   "source": [
    "import pandas as pd\n",
    "\n",
    "# Replace this placeholder with the actual data extracted from the image\n",
    "data = {\n",
    "    \"strike\": [21850, 47800],  # First row\n",
    "    \"expiry\": [\"18Jan2024\", \"17Jan2024\"],  # Second row\n",
    "    # ... add more rows if needed\n",
    "}\n",
    "\n",
    "# Create the DataFrame with specified columns\n",
    "df = pd.DataFrame(data, columns=[\"nifty\", \"banknifty\"])\n",
    "\n",
    "# Set the index, maintaining the original order of rows\n",
    "df = df.set_index(pd.MultiIndex.from_tuples(df.index))\n",
    "\n",
    "# Print the DataFrame\n",
    "print(df)\n"
   ]
  },
  {
   "cell_type": "code",
   "execution_count": 4,
   "id": "844d9413",
   "metadata": {},
   "outputs": [
    {
     "name": "stdout",
     "output_type": "stream",
     "text": [
      "{'strike': ['21850', '47800'], 'expiry': ['18Jan2024', '17Jan2024']}\n",
      "Empty DataFrame\n",
      "Columns: [nifty, banknifty]\n",
      "Index: []\n"
     ]
    }
   ],
   "source": [
    "import pandas as pd\n",
    "\n",
    "# Ensure the data dictionary is filled with actual extracted values\n",
    "data = {\n",
    "    \"strike\": ['21850', '47800'],  # First row (replace with actual values)\n",
    "    \"expiry\": [\"18Jan2024\", \"17Jan2024\"],  # Second row (replace with actual values)\n",
    "    # ... add more rows if needed\n",
    "}\n",
    "\n",
    "# Create the DataFrame with specified columns\n",
    "df = pd.DataFrame(data, columns=[\"nifty\", \"banknifty\"])\n",
    "\n",
    "# Check if there's only one level of data (single row)\n",
    "if len(df.index) == 1:\n",
    "    # Set the single index name\n",
    "    df.index.names = [\"strike\"]\n",
    "else:\n",
    "    # Set the multi-level index with names\n",
    "    df.index = pd.MultiIndex.from_tuples(df.index, names=[\"strike\", \"expiry\"])\n",
    "print(data)\n",
    "# Print the DataFrame\n",
    "print(df)\n"
   ]
  },
  {
   "cell_type": "code",
   "execution_count": 5,
   "id": "65ccb81b",
   "metadata": {},
   "outputs": [
    {
     "ename": "ValueError",
     "evalue": "Length of new names must be 1, got 2",
     "output_type": "error",
     "traceback": [
      "\u001b[1;31m---------------------------------------------------------------------------\u001b[0m",
      "\u001b[1;31mValueError\u001b[0m                                Traceback (most recent call last)",
      "Cell \u001b[1;32mIn[5], line 11\u001b[0m\n\u001b[0;32m      9\u001b[0m \u001b[38;5;66;03m# Create the DataFrame directly from the transposed data\u001b[39;00m\n\u001b[0;32m     10\u001b[0m df \u001b[38;5;241m=\u001b[39m pd\u001b[38;5;241m.\u001b[39mDataFrame(data)\u001b[38;5;241m.\u001b[39mT\n\u001b[1;32m---> 11\u001b[0m df\u001b[38;5;241m.\u001b[39mindex\u001b[38;5;241m.\u001b[39mnames \u001b[38;5;241m=\u001b[39m [\u001b[38;5;124m\"\u001b[39m\u001b[38;5;124mstrike\u001b[39m\u001b[38;5;124m\"\u001b[39m, \u001b[38;5;124m\"\u001b[39m\u001b[38;5;124mexpiry\u001b[39m\u001b[38;5;124m\"\u001b[39m]\n\u001b[0;32m     13\u001b[0m \u001b[38;5;66;03m# Print the DataFrame\u001b[39;00m\n\u001b[0;32m     14\u001b[0m \u001b[38;5;28mprint\u001b[39m(df)\n",
      "File \u001b[1;32mC:\\ProgramData\\anaconda3\\lib\\site-packages\\pandas\\core\\indexes\\base.py:1842\u001b[0m, in \u001b[0;36mIndex._set_names\u001b[1;34m(self, values, level)\u001b[0m\n\u001b[0;32m   1840\u001b[0m     \u001b[38;5;28;01mraise\u001b[39;00m \u001b[38;5;167;01mValueError\u001b[39;00m(\u001b[38;5;124m\"\u001b[39m\u001b[38;5;124mNames must be a list-like\u001b[39m\u001b[38;5;124m\"\u001b[39m)\n\u001b[0;32m   1841\u001b[0m \u001b[38;5;28;01mif\u001b[39;00m \u001b[38;5;28mlen\u001b[39m(values) \u001b[38;5;241m!=\u001b[39m \u001b[38;5;241m1\u001b[39m:\n\u001b[1;32m-> 1842\u001b[0m     \u001b[38;5;28;01mraise\u001b[39;00m \u001b[38;5;167;01mValueError\u001b[39;00m(\u001b[38;5;124mf\u001b[39m\u001b[38;5;124m\"\u001b[39m\u001b[38;5;124mLength of new names must be 1, got \u001b[39m\u001b[38;5;132;01m{\u001b[39;00m\u001b[38;5;28mlen\u001b[39m(values)\u001b[38;5;132;01m}\u001b[39;00m\u001b[38;5;124m\"\u001b[39m)\n\u001b[0;32m   1844\u001b[0m \u001b[38;5;66;03m# GH 20527\u001b[39;00m\n\u001b[0;32m   1845\u001b[0m \u001b[38;5;66;03m# All items in 'name' need to be hashable:\u001b[39;00m\n\u001b[0;32m   1846\u001b[0m validate_all_hashable(\u001b[38;5;241m*\u001b[39mvalues, error_name\u001b[38;5;241m=\u001b[39m\u001b[38;5;124mf\u001b[39m\u001b[38;5;124m\"\u001b[39m\u001b[38;5;132;01m{\u001b[39;00m\u001b[38;5;28mtype\u001b[39m(\u001b[38;5;28mself\u001b[39m)\u001b[38;5;241m.\u001b[39m\u001b[38;5;18m__name__\u001b[39m\u001b[38;5;132;01m}\u001b[39;00m\u001b[38;5;124m.name\u001b[39m\u001b[38;5;124m\"\u001b[39m)\n",
      "\u001b[1;31mValueError\u001b[0m: Length of new names must be 1, got 2"
     ]
    }
   ],
   "source": [
    "import pandas as pd\n",
    "\n",
    "# Assuming the data dictionary is correctly populated\n",
    "data = {\n",
    "    \"strike\": [21850, 47800],\n",
    "    \"expiry\": [\"18Jan2024\", \"17Jan2024\"]\n",
    "}\n",
    "\n",
    "# Create the DataFrame directly from the transposed data\n",
    "df = pd.DataFrame(data).T\n",
    "df.index.names = [\"strike\", \"expiry\"]\n",
    "\n",
    "# Print the DataFrame\n",
    "print(df)\n"
   ]
  },
  {
   "cell_type": "code",
   "execution_count": 1,
   "id": "f1388bef",
   "metadata": {},
   "outputs": [
    {
     "name": "stdout",
     "output_type": "stream",
     "text": [
      "           strike     expiry  call_prem  put_prem\n",
      "nifty       21850  18Jan2024          1         3\n",
      "banknifty   47800  17Jan2024          2         1\n",
      "47800\n"
     ]
    }
   ],
   "source": [
    "import pandas as pd\n",
    "\n",
    "# Assuming the data dictionary is correctly populated\n",
    "data = {\n",
    "    \"strike\": [21850, 47800],\n",
    "    \"expiry\": [\"18Jan2024\", \"17Jan2024\"]\n",
    "}\n",
    "\n",
    "call_prem =[1,2]\n",
    "data['call_prem'] = call_prem\n",
    "\n",
    "put_prem = [3,1]\n",
    "data['put_prem'] = put_prem\n",
    "\n",
    "data['strike'] = []\n",
    "\n",
    "# Create the DataFrame directly from the transposed data\n",
    "df = pd.DataFrame(data, index = ['nifty', 'banknifty'])\n",
    "\n",
    "# Set the index name explicitly (only one level)\n",
    "# df.index.names = [\"strike\"]  # Set the appropriate index name\n",
    "\n",
    "# Print the DataFrame\n",
    "print(df)\n",
    "print(df.loc['banknifty','strike'])"
   ]
  }
 ],
 "metadata": {
  "kernelspec": {
   "display_name": "Python 3 (ipykernel)",
   "language": "python",
   "name": "python3"
  },
  "language_info": {
   "codemirror_mode": {
    "name": "ipython",
    "version": 3
   },
   "file_extension": ".py",
   "mimetype": "text/x-python",
   "name": "python",
   "nbconvert_exporter": "python",
   "pygments_lexer": "ipython3",
   "version": "3.11.5"
  }
 },
 "nbformat": 4,
 "nbformat_minor": 5
}
